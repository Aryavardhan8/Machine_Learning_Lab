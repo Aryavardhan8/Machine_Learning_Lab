{
 "cells": [
  {
   "cell_type": "code",
   "execution_count": 2,
   "id": "f25c1d08-669e-433c-87d1-c4edee0f85a5",
   "metadata": {},
   "outputs": [
    {
     "name": "stdout",
     "output_type": "stream",
     "text": [
      "Collecting mlxtend\n",
      "  Downloading mlxtend-0.23.4-py3-none-any.whl.metadata (7.3 kB)\n",
      "Requirement already satisfied: scipy>=1.2.1 in ./miniforge3/lib/python3.12/site-packages (from mlxtend) (1.16.1)\n",
      "Requirement already satisfied: numpy>=1.16.2 in ./miniforge3/lib/python3.12/site-packages (from mlxtend) (2.3.3)\n",
      "Requirement already satisfied: pandas>=0.24.2 in ./miniforge3/lib/python3.12/site-packages (from mlxtend) (2.3.2)\n",
      "Requirement already satisfied: scikit-learn>=1.3.1 in ./miniforge3/lib/python3.12/site-packages (from mlxtend) (1.7.2)\n",
      "Requirement already satisfied: matplotlib>=3.0.0 in ./miniforge3/lib/python3.12/site-packages (from mlxtend) (3.10.6)\n",
      "Requirement already satisfied: joblib>=0.13.2 in ./miniforge3/lib/python3.12/site-packages (from mlxtend) (1.5.2)\n",
      "Requirement already satisfied: contourpy>=1.0.1 in ./miniforge3/lib/python3.12/site-packages (from matplotlib>=3.0.0->mlxtend) (1.3.3)\n",
      "Requirement already satisfied: cycler>=0.10 in ./miniforge3/lib/python3.12/site-packages (from matplotlib>=3.0.0->mlxtend) (0.12.1)\n",
      "Requirement already satisfied: fonttools>=4.22.0 in ./miniforge3/lib/python3.12/site-packages (from matplotlib>=3.0.0->mlxtend) (4.59.2)\n",
      "Requirement already satisfied: kiwisolver>=1.3.1 in ./miniforge3/lib/python3.12/site-packages (from matplotlib>=3.0.0->mlxtend) (1.4.9)\n",
      "Requirement already satisfied: packaging>=20.0 in ./miniforge3/lib/python3.12/site-packages (from matplotlib>=3.0.0->mlxtend) (25.0)\n",
      "Requirement already satisfied: pillow>=8 in ./miniforge3/lib/python3.12/site-packages (from matplotlib>=3.0.0->mlxtend) (11.3.0)\n",
      "Requirement already satisfied: pyparsing>=2.3.1 in ./miniforge3/lib/python3.12/site-packages (from matplotlib>=3.0.0->mlxtend) (3.2.3)\n",
      "Requirement already satisfied: python-dateutil>=2.7 in ./miniforge3/lib/python3.12/site-packages (from matplotlib>=3.0.0->mlxtend) (2.9.0.post0)\n",
      "Requirement already satisfied: pytz>=2020.1 in ./miniforge3/lib/python3.12/site-packages (from pandas>=0.24.2->mlxtend) (2025.2)\n",
      "Requirement already satisfied: tzdata>=2022.7 in ./miniforge3/lib/python3.12/site-packages (from pandas>=0.24.2->mlxtend) (2025.2)\n",
      "Requirement already satisfied: six>=1.5 in ./miniforge3/lib/python3.12/site-packages (from python-dateutil>=2.7->matplotlib>=3.0.0->mlxtend) (1.17.0)\n",
      "Requirement already satisfied: threadpoolctl>=3.1.0 in ./miniforge3/lib/python3.12/site-packages (from scikit-learn>=1.3.1->mlxtend) (3.6.0)\n",
      "Downloading mlxtend-0.23.4-py3-none-any.whl (1.4 MB)\n",
      "\u001b[2K   \u001b[90m━━━━━━━━━━━━━━━━━━━━━━━━━━━━━━━━━━━━━━━━\u001b[0m \u001b[32m1.4/1.4 MB\u001b[0m \u001b[31m6.7 MB/s\u001b[0m eta \u001b[36m0:00:00\u001b[0ma \u001b[36m0:00:01\u001b[0m\n",
      "\u001b[?25hInstalling collected packages: mlxtend\n",
      "Successfully installed mlxtend-0.23.4\n"
     ]
    }
   ],
   "source": [
    "!pip install mlxtend\n",
    "\n",
    "import pandas as pd\n",
    "from mlxtend.frequent_patterns import apriori, association_rules"
   ]
  },
  {
   "cell_type": "code",
   "execution_count": 9,
   "id": "1fedde86-cc93-4d53-8420-249b7dd4a222",
   "metadata": {},
   "outputs": [],
   "source": [
    "# Each transaction is as list of items purchased together\n",
    "\n",
    "dataset = [\n",
    "    ['milk', 'bread', 'nuts', 'apple'],\n",
    "    ['milk', 'bread', 'nuts'],\n",
    "    ['milk', 'bread'],\n",
    "    ['milk','apple'],\n",
    "    ['milk', 'bread'],\n",
    "    ['milk', 'apple'],\n",
    "    ['milk', 'bread', 'apple'],\n",
    "    ['milk', 'bread', 'apple'],\n",
    "    ['milk', 'bread', 'nuts'],\n",
    "]\n",
    "\n",
    "\n",
    "\n",
    "\n",
    "    "
   ]
  },
  {
   "cell_type": "code",
   "execution_count": 10,
   "id": "d6402106-41b9-4bd4-9a2f-3a6dc9b38fd8",
   "metadata": {},
   "outputs": [],
   "source": [
    "from mlxtend.preprocessing import TransactionEncoder\n",
    "te = TransactionEncoder()\n",
    "te_array = te.fit(dataset).transform(dataset)\n",
    "df = pd.DataFrame(te_array, columns=te.columns_)"
   ]
  },
  {
   "cell_type": "code",
   "execution_count": 11,
   "id": "650d5529-1a13-4e7d-a027-19900a15564d",
   "metadata": {},
   "outputs": [
    {
     "name": "stdout",
     "output_type": "stream",
     "text": [
      "One-Hot Encoded Transaction Data:\n",
      "   apple  bread  milk   nuts\n",
      "0   True   True  True   True\n",
      "1  False   True  True   True\n",
      "2  False   True  True  False\n",
      "3   True  False  True  False\n",
      "4  False   True  True  False\n",
      "5   True  False  True  False\n",
      "6   True   True  True  False\n",
      "7   True   True  True  False\n",
      "8  False   True  True   True\n"
     ]
    }
   ],
   "source": [
    "print(\"One-Hot Encoded Transaction Data:\")\n",
    "print(df)\n"
   ]
  },
  {
   "cell_type": "code",
   "execution_count": 13,
   "id": "cae8a304-4fa8-43ec-9004-a8482a6993b1",
   "metadata": {},
   "outputs": [
    {
     "name": "stdout",
     "output_type": "stream",
     "text": [
      "\n",
      " Frequent Itemsets:\n",
      "     support              itemsets\n",
      "0   0.555556               (apple)\n",
      "1   0.777778               (bread)\n",
      "2   1.000000                (milk)\n",
      "3   0.333333                (nuts)\n",
      "4   0.333333        (bread, apple)\n",
      "5   0.555556         (milk, apple)\n",
      "6   0.777778         (milk, bread)\n",
      "7   0.333333         (bread, nuts)\n",
      "8   0.333333          (milk, nuts)\n",
      "9   0.333333  (milk, bread, apple)\n",
      "10  0.333333   (milk, bread, nuts)\n"
     ]
    }
   ],
   "source": [
    "frequent_itemsets = apriori(df, min_support=0.3, use_colnames=True)\n",
    "print(\"\\n Frequent Itemsets:\")\n",
    "print(frequent_itemsets)"
   ]
  },
  {
   "cell_type": "code",
   "execution_count": 15,
   "id": "b4b294b0-c6e0-4679-84c8-8d8ad135dba7",
   "metadata": {},
   "outputs": [
    {
     "name": "stdout",
     "output_type": "stream",
     "text": [
      "\n",
      " Association Rules: \n",
      "       antecedents     consequents   support  confidence      lift\n",
      "0           (milk)         (apple)  0.555556    0.555556  1.000000\n",
      "1          (apple)          (milk)  0.555556    1.000000  1.000000\n",
      "2           (milk)         (bread)  0.777778    0.777778  1.000000\n",
      "3          (bread)          (milk)  0.777778    1.000000  1.000000\n",
      "4          (bread)          (nuts)  0.333333    0.428571  1.285714\n",
      "5           (nuts)         (bread)  0.333333    1.000000  1.285714\n",
      "6           (milk)          (nuts)  0.333333    0.333333  1.000000\n",
      "7           (nuts)          (milk)  0.333333    1.000000  1.000000\n",
      "8   (bread, apple)          (milk)  0.333333    1.000000  1.000000\n",
      "9           (milk)  (bread, apple)  0.333333    0.333333  1.000000\n",
      "10   (milk, bread)          (nuts)  0.333333    0.428571  1.285714\n",
      "11    (milk, nuts)         (bread)  0.333333    1.000000  1.285714\n",
      "12   (bread, nuts)          (milk)  0.333333    1.000000  1.000000\n",
      "13          (milk)   (bread, nuts)  0.333333    0.333333  1.000000\n",
      "14         (bread)    (milk, nuts)  0.333333    0.428571  1.285714\n",
      "15          (nuts)   (milk, bread)  0.333333    1.000000  1.285714\n"
     ]
    },
    {
     "name": "stderr",
     "output_type": "stream",
     "text": [
      "/Users/aryavardhandeshmukh/miniforge3/lib/python3.12/site-packages/mlxtend/frequent_patterns/association_rules.py:186: RuntimeWarning: invalid value encountered in divide\n",
      "  cert_metric = np.where(certainty_denom == 0, 0, certainty_num / certainty_denom)\n"
     ]
    }
   ],
   "source": [
    "rules = association_rules(frequent_itemsets, metric=\"lift\" ,min_threshold=1.0)\n",
    "print(\"\\n Association Rules: \")\n",
    "print(rules[['antecedents' , 'consequents', 'support', 'confidence', 'lift']]) "
   ]
  },
  {
   "cell_type": "code",
   "execution_count": 16,
   "id": "4106ade1-2b93-4c3c-8e42-324ea82c863d",
   "metadata": {},
   "outputs": [
    {
     "name": "stdout",
     "output_type": "stream",
     "text": [
      "\n",
      " Top rules by Lift:\n",
      "       antecedents     consequents   support  confidence      lift\n",
      "4          (bread)          (nuts)  0.333333    0.428571  1.285714\n",
      "10   (milk, bread)          (nuts)  0.333333    0.428571  1.285714\n",
      "14         (bread)    (milk, nuts)  0.333333    0.428571  1.285714\n",
      "5           (nuts)         (bread)  0.333333    1.000000  1.285714\n",
      "11    (milk, nuts)         (bread)  0.333333    1.000000  1.285714\n",
      "15          (nuts)   (milk, bread)  0.333333    1.000000  1.285714\n",
      "0           (milk)         (apple)  0.555556    0.555556  1.000000\n",
      "1          (apple)          (milk)  0.555556    1.000000  1.000000\n",
      "2           (milk)         (bread)  0.777778    0.777778  1.000000\n",
      "3          (bread)          (milk)  0.777778    1.000000  1.000000\n",
      "6           (milk)          (nuts)  0.333333    0.333333  1.000000\n",
      "7           (nuts)          (milk)  0.333333    1.000000  1.000000\n",
      "8   (bread, apple)          (milk)  0.333333    1.000000  1.000000\n",
      "9           (milk)  (bread, apple)  0.333333    0.333333  1.000000\n",
      "12   (bread, nuts)          (milk)  0.333333    1.000000  1.000000\n",
      "13          (milk)   (bread, nuts)  0.333333    0.333333  1.000000\n"
     ]
    }
   ],
   "source": [
    "rules = rules.sort_values(by='lift', ascending=False)\n",
    "print(\"\\n Top rules by Lift:\")\n",
    "print(rules[['antecedents', 'consequents', 'support', 'confidence', 'lift']])"
   ]
  },
  {
   "cell_type": "code",
   "execution_count": null,
   "id": "82f1f24a-2d12-44cf-b733-03cbd0c83230",
   "metadata": {},
   "outputs": [],
   "source": []
  },
  {
   "cell_type": "code",
   "execution_count": null,
   "id": "102ec730-927e-433b-a90f-0cdb32b83b75",
   "metadata": {},
   "outputs": [],
   "source": []
  },
  {
   "cell_type": "code",
   "execution_count": null,
   "id": "dd9b84d3-548a-4911-b261-b932253e5ec8",
   "metadata": {},
   "outputs": [],
   "source": []
  },
  {
   "cell_type": "code",
   "execution_count": null,
   "id": "c4900579-a2b7-4c88-9cf6-6cfe1058d9cd",
   "metadata": {},
   "outputs": [],
   "source": []
  },
  {
   "cell_type": "code",
   "execution_count": null,
   "id": "d6d8996f-2e56-4bd7-8a0f-34d6ca7042e0",
   "metadata": {},
   "outputs": [],
   "source": []
  },
  {
   "cell_type": "code",
   "execution_count": null,
   "id": "c9d07669-fe7c-489c-8b1f-8694d57642c7",
   "metadata": {},
   "outputs": [],
   "source": []
  },
  {
   "cell_type": "code",
   "execution_count": null,
   "id": "58a30a9b-f1e0-4594-a916-2f686fa39368",
   "metadata": {},
   "outputs": [],
   "source": []
  },
  {
   "cell_type": "code",
   "execution_count": null,
   "id": "a2dfa65e-8191-4b42-8c52-76341a3ef61c",
   "metadata": {},
   "outputs": [],
   "source": []
  },
  {
   "cell_type": "code",
   "execution_count": null,
   "id": "74b8b6fd-74ef-44a6-aadb-9ac22ae5861a",
   "metadata": {},
   "outputs": [],
   "source": []
  }
 ],
 "metadata": {
  "kernelspec": {
   "display_name": "Python 3 (ipykernel)",
   "language": "python",
   "name": "python3"
  },
  "language_info": {
   "codemirror_mode": {
    "name": "ipython",
    "version": 3
   },
   "file_extension": ".py",
   "mimetype": "text/x-python",
   "name": "python",
   "nbconvert_exporter": "python",
   "pygments_lexer": "ipython3",
   "version": "3.12.11"
  }
 },
 "nbformat": 4,
 "nbformat_minor": 5
}
